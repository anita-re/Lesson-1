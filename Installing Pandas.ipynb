{
 "cells": [
  {
   "cell_type": "code",
   "execution_count": null,
   "id": "9e9e5ce2",
   "metadata": {},
   "outputs": [],
   "source": [
    "!pip install pandas"
   ]
  },
  {
   "cell_type": "code",
   "execution_count": 3,
   "id": "e8f41c18",
   "metadata": {},
   "outputs": [],
   "source": [
    "import pandas as pd"
   ]
  },
  {
   "cell_type": "code",
   "execution_count": 8,
   "id": "65efa6dc",
   "metadata": {},
   "outputs": [
    {
     "name": "stdout",
     "output_type": "stream",
     "text": [
      "Student Records\n",
      "\n",
      "     Student  Rank  Marks\n",
      "0     Mwaka     1     95\n",
      "1      Ruth     4     70\n",
      "2  Chelogoi     3     80\n",
      "3  Ziphrose     5     60\n"
     ]
    }
   ],
   "source": [
    "#dataset\n",
    "\n",
    "data = {'Student': [\"Mwaka\", \"Ruth\", \"Chelogoi\", \"Ziphrose\"], \n",
    "        'Rank':[1,4,3,5], \n",
    "        'Marks':[95,70,80,60]}\n",
    "res= pd.DataFrame(data)\n",
    "print(\"Student Records\\n\\n\", res)"
   ]
  },
  {
   "cell_type": "markdown",
   "id": "fc49f5ac",
   "metadata": {},
   "source": [
    "# Indexing Pandas"
   ]
  },
  {
   "cell_type": "code",
   "execution_count": 6,
   "id": "ae0617df",
   "metadata": {},
   "outputs": [],
   "source": [
    "import pandas as pd"
   ]
  },
  {
   "cell_type": "code",
   "execution_count": 7,
   "id": "6b21bc41",
   "metadata": {},
   "outputs": [
    {
     "name": "stdout",
     "output_type": "stream",
     "text": [
      "Student Records\n",
      "\n",
      "     Student  Rank  Marks\n",
      "0     Mwaka     1     95\n",
      "1      Ruth     4     70\n",
      "2  Chelogoi     3     80\n",
      "3  Ziphrose     5     60\n"
     ]
    }
   ],
   "source": [
    "data = {'Student': [\"Mwaka\", \"Ruth\", \"Chelogoi\", \"Ziphrose\"], \n",
    "        'Rank':[1,4,3,5], \n",
    "        'Marks':[95,70,80,60]}\n",
    "res= pd.DataFrame(data)\n",
    "print(\"Student Records\\n\\n\", res)"
   ]
  },
  {
   "cell_type": "code",
   "execution_count": 6,
   "id": "820eda18",
   "metadata": {},
   "outputs": [],
   "source": [
    "import pandas as pd\n",
    "\n",
    "df=pd.read_excel('Flavours Data.xlsx')"
   ]
  },
  {
   "cell_type": "code",
   "execution_count": 9,
   "id": "38847395",
   "metadata": {},
   "outputs": [
    {
     "data": {
      "text/html": [
       "<div>\n",
       "<style scoped>\n",
       "    .dataframe tbody tr th:only-of-type {\n",
       "        vertical-align: middle;\n",
       "    }\n",
       "\n",
       "    .dataframe tbody tr th {\n",
       "        vertical-align: top;\n",
       "    }\n",
       "\n",
       "    .dataframe thead th {\n",
       "        text-align: right;\n",
       "    }\n",
       "</style>\n",
       "<table border=\"1\" class=\"dataframe\">\n",
       "  <thead>\n",
       "    <tr style=\"text-align: right;\">\n",
       "      <th></th>\n",
       "      <th>Flavor</th>\n",
       "      <th>Base Flavor</th>\n",
       "      <th>Liked</th>\n",
       "      <th>Flavor Rating</th>\n",
       "      <th>Texture Rating</th>\n",
       "      <th>Total Rating</th>\n",
       "    </tr>\n",
       "  </thead>\n",
       "  <tbody>\n",
       "    <tr>\n",
       "      <th>0</th>\n",
       "      <td>Mint chocolate chip</td>\n",
       "      <td>Vanilla</td>\n",
       "      <td>Yes</td>\n",
       "      <td>10.0</td>\n",
       "      <td>8.0</td>\n",
       "      <td>18.0</td>\n",
       "    </tr>\n",
       "    <tr>\n",
       "      <th>1</th>\n",
       "      <td>Chocolate</td>\n",
       "      <td>Chocolate</td>\n",
       "      <td>Yes</td>\n",
       "      <td>8.8</td>\n",
       "      <td>7.6</td>\n",
       "      <td>16.6</td>\n",
       "    </tr>\n",
       "    <tr>\n",
       "      <th>2</th>\n",
       "      <td>Vanilla</td>\n",
       "      <td>Vanilla</td>\n",
       "      <td>No</td>\n",
       "      <td>4.7</td>\n",
       "      <td>5.0</td>\n",
       "      <td>9.7</td>\n",
       "    </tr>\n",
       "    <tr>\n",
       "      <th>3</th>\n",
       "      <td>Cookie dough</td>\n",
       "      <td>Vanilla</td>\n",
       "      <td>Yes</td>\n",
       "      <td>6.9</td>\n",
       "      <td>6.5</td>\n",
       "      <td>13.4</td>\n",
       "    </tr>\n",
       "    <tr>\n",
       "      <th>4</th>\n",
       "      <td>Rocky road</td>\n",
       "      <td>Chocolate</td>\n",
       "      <td>Yes</td>\n",
       "      <td>8.2</td>\n",
       "      <td>7.0</td>\n",
       "      <td>15.2</td>\n",
       "    </tr>\n",
       "    <tr>\n",
       "      <th>5</th>\n",
       "      <td>Pistachio</td>\n",
       "      <td>Vanilla</td>\n",
       "      <td>No</td>\n",
       "      <td>2.3</td>\n",
       "      <td>3.4</td>\n",
       "      <td>5.7</td>\n",
       "    </tr>\n",
       "    <tr>\n",
       "      <th>6</th>\n",
       "      <td>Cake batter</td>\n",
       "      <td>Vanilla</td>\n",
       "      <td>Yes</td>\n",
       "      <td>6.5</td>\n",
       "      <td>6.0</td>\n",
       "      <td>12.5</td>\n",
       "    </tr>\n",
       "    <tr>\n",
       "      <th>7</th>\n",
       "      <td>Neapolitan</td>\n",
       "      <td>Vanilla</td>\n",
       "      <td>No</td>\n",
       "      <td>3.8</td>\n",
       "      <td>5.0</td>\n",
       "      <td>8.8</td>\n",
       "    </tr>\n",
       "    <tr>\n",
       "      <th>8</th>\n",
       "      <td>Chocolate fudge brownie</td>\n",
       "      <td>Chocolate</td>\n",
       "      <td>Yes</td>\n",
       "      <td>8.2</td>\n",
       "      <td>7.1</td>\n",
       "      <td>15.3</td>\n",
       "    </tr>\n",
       "  </tbody>\n",
       "</table>\n",
       "</div>"
      ],
      "text/plain": [
       "                   Flavor  Base Flavor Liked  Flavor Rating  Texture Rating  \\\n",
       "0      Mint chocolate chip     Vanilla   Yes           10.0             8.0   \n",
       "1                Chocolate   Chocolate   Yes            8.8             7.6   \n",
       "2                  Vanilla     Vanilla    No            4.7             5.0   \n",
       "3             Cookie dough     Vanilla   Yes            6.9             6.5   \n",
       "4               Rocky road   Chocolate   Yes            8.2             7.0   \n",
       "5                Pistachio     Vanilla    No            2.3             3.4   \n",
       "6              Cake batter     Vanilla   Yes            6.5             6.0   \n",
       "7               Neapolitan     Vanilla    No            3.8             5.0   \n",
       "8  Chocolate fudge brownie   Chocolate   Yes            8.2             7.1   \n",
       "\n",
       "   Total Rating  \n",
       "0          18.0  \n",
       "1          16.6  \n",
       "2           9.7  \n",
       "3          13.4  \n",
       "4          15.2  \n",
       "5           5.7  \n",
       "6          12.5  \n",
       "7           8.8  \n",
       "8          15.3  "
      ]
     },
     "execution_count": 9,
     "metadata": {},
     "output_type": "execute_result"
    }
   ],
   "source": [
    "df"
   ]
  },
  {
   "cell_type": "code",
   "execution_count": null,
   "id": "195c2a3d",
   "metadata": {},
   "outputs": [],
   "source": []
  }
 ],
 "metadata": {
  "kernelspec": {
   "display_name": "Python 3 (ipykernel)",
   "language": "python",
   "name": "python3"
  },
  "language_info": {
   "codemirror_mode": {
    "name": "ipython",
    "version": 3
   },
   "file_extension": ".py",
   "mimetype": "text/x-python",
   "name": "python",
   "nbconvert_exporter": "python",
   "pygments_lexer": "ipython3",
   "version": "3.9.13"
  }
 },
 "nbformat": 4,
 "nbformat_minor": 5
}
